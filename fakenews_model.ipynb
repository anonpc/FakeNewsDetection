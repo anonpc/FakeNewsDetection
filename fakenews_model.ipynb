{
  "cells": [
    {
      "cell_type": "code",
      "execution_count": 30,
      "metadata": {
        "id": "6TKP6rApwRDJ"
      },
      "outputs": [],
      "source": [
        "import tqdm\n",
        "import pandas as pd\n",
        "from sklearn.model_selection import train_test_split\n",
        "from dataset import NewsDataset\n",
        "import torch\n",
        "\n",
        "from transformers import AutoTokenizer, AutoModel, BertForSequenceClassification, Trainer, TrainingArguments"
      ]
    },
    {
      "cell_type": "code",
      "execution_count": null,
      "metadata": {
        "id": "jYozgPggwRDK"
      },
      "outputs": [],
      "source": [
        "train_stances = pd.read_csv(filepath_or_buffer='train_stances.csv')\n",
        "train_bodies = pd.read_csv(filepath_or_buffer='train_bodies.csv')\n",
        "# train_stances = pd.read_csv(filepath_or_buffer='train_stances.csv')\n",
        "# train_stances = pd.read_csv(filepath_or_buffer='train_stances.csv')"
      ]
    },
    {
      "cell_type": "code",
      "execution_count": null,
      "metadata": {
        "id": "Jhi2jag5wRDK",
        "outputId": "69ca55f3-e75f-4f7e-c593-f13cbeab9d19"
      },
      "outputs": [
        {
          "name": "stderr",
          "output_type": "stream",
          "text": [
            "100%|██████████| 4408/4408 [07:26<00:00,  9.87it/s]\n"
          ]
        }
      ],
      "source": [
        "count=0\n",
        "for i in tqdm.tqdm(range(train_stances.shape[0])):\n",
        "    for j in range(train_bodies.shape[0]):\n",
        "        if train_bodies.loc[j,'Body ID']==train_stances.loc[i,'Body ID']:\n",
        "            train_stances.loc[i,'articleBody'] = train_bodies.loc[j,'articleBody']\n",
        "            train_stances.loc[i,'articleBody1'] = train_bodies.loc[j,'articleBody1']\n",
        "            train_stances.loc[i,'articleBody2'] = train_bodies.loc[j,'articleBody2']\n",
        "    train_stances.to_csv('data_combined.csv',index=False)"
      ]
    },
    {
      "cell_type": "code",
      "execution_count": 3,
      "metadata": {
        "id": "Rzx0DkHBwRDL"
      },
      "outputs": [],
      "source": [
        "train_data = pd.read_csv('data_combined.csv')"
      ]
    },
    {
      "cell_type": "code",
      "execution_count": 4,
      "metadata": {
        "colab": {
          "base_uri": "https://localhost:8080/"
        },
        "id": "BxM4neYfwRDL",
        "outputId": "35a3b58c-9d2a-44e1-caef-6db0a92f0f54"
      },
      "outputs": [
        {
          "output_type": "stream",
          "name": "stderr",
          "text": [
            "<ipython-input-4-8fa03dc52c7d>:2: SettingWithCopyWarning: \n",
            "A value is trying to be set on a copy of a slice from a DataFrame.\n",
            "Try using .loc[row_indexer,col_indexer] = value instead\n",
            "\n",
            "See the caveats in the documentation: https://pandas.pydata.org/pandas-docs/stable/user_guide/indexing.html#returning-a-view-versus-a-copy\n",
            "  train_data['label'] = train_data['Stance'].map({'agree': 0, 'disagree': 1})\n"
          ]
        }
      ],
      "source": [
        "train_data = train_data[['articleBody', 'Stance']]\n",
        "train_data['label'] = train_data['Stance'].map({'agree': 0, 'disagree': 1})"
      ]
    },
    {
      "cell_type": "code",
      "execution_count": 5,
      "metadata": {
        "id": "KAsvfPllwRDL"
      },
      "outputs": [],
      "source": [
        "train_texts, val_texts, train_labels, val_labels = train_test_split(\n",
        "    train_data['articleBody'].tolist(),\n",
        "    train_data['label'].tolist(),\n",
        "    test_size=0.2,\n",
        "    random_state=42\n",
        ")"
      ]
    },
    {
      "cell_type": "code",
      "source": [
        "!nvidia-smi"
      ],
      "metadata": {
        "colab": {
          "base_uri": "https://localhost:8080/"
        },
        "id": "QTxkIDrPyzFt",
        "outputId": "07a260fa-f76b-4ce0-aa10-5698f154aa5f"
      },
      "execution_count": 19,
      "outputs": [
        {
          "output_type": "stream",
          "name": "stdout",
          "text": [
            "Sat Sep 28 22:40:56 2024       \n",
            "+---------------------------------------------------------------------------------------+\n",
            "| NVIDIA-SMI 535.104.05             Driver Version: 535.104.05   CUDA Version: 12.2     |\n",
            "|-----------------------------------------+----------------------+----------------------+\n",
            "| GPU  Name                 Persistence-M | Bus-Id        Disp.A | Volatile Uncorr. ECC |\n",
            "| Fan  Temp   Perf          Pwr:Usage/Cap |         Memory-Usage | GPU-Util  Compute M. |\n",
            "|                                         |                      |               MIG M. |\n",
            "|=========================================+======================+======================|\n",
            "|   0  Tesla T4                       Off | 00000000:00:04.0 Off |                    0 |\n",
            "| N/A   71C    P0              30W /  70W |   5531MiB / 15360MiB |      0%      Default |\n",
            "|                                         |                      |                  N/A |\n",
            "+-----------------------------------------+----------------------+----------------------+\n",
            "                                                                                         \n",
            "+---------------------------------------------------------------------------------------+\n",
            "| Processes:                                                                            |\n",
            "|  GPU   GI   CI        PID   Type   Process name                            GPU Memory |\n",
            "|        ID   ID                                                             Usage      |\n",
            "|=======================================================================================|\n",
            "+---------------------------------------------------------------------------------------+\n"
          ]
        }
      ]
    },
    {
      "cell_type": "code",
      "execution_count": 20,
      "metadata": {
        "colab": {
          "base_uri": "https://localhost:8080/"
        },
        "id": "NF34cASVwRDM",
        "outputId": "10d9b695-eb0c-46f6-fc84-42f5d36f0512"
      },
      "outputs": [
        {
          "output_type": "stream",
          "name": "stderr",
          "text": [
            "/usr/local/lib/python3.10/dist-packages/transformers/tokenization_utils_base.py:1601: FutureWarning: `clean_up_tokenization_spaces` was not set. It will be set to `True` by default. This behavior will be depracted in transformers v4.45, and will be then set to `False` by default. For more details check this issue: https://github.com/huggingface/transformers/issues/31884\n",
            "  warnings.warn(\n",
            "Some weights of BertForSequenceClassification were not initialized from the model checkpoint at DeepPavlov/rubert-base-cased and are newly initialized: ['classifier.bias', 'classifier.weight']\n",
            "You should probably TRAIN this model on a down-stream task to be able to use it for predictions and inference.\n"
          ]
        }
      ],
      "source": [
        "tokenizer = AutoTokenizer.from_pretrained('DeepPavlov/rubert-base-cased')\n",
        "model = BertForSequenceClassification.from_pretrained('DeepPavlov/rubert-base-cased', num_labels=2).to('cuda')"
      ]
    },
    {
      "cell_type": "code",
      "execution_count": 21,
      "metadata": {
        "id": "H0x1BIDtwRDM"
      },
      "outputs": [],
      "source": [
        "train_encodings = tokenizer(train_texts, truncation=True, padding=True, max_length=512)\n",
        "val_encodings = tokenizer(val_texts, truncation=True, padding=True, max_length=512)"
      ]
    },
    {
      "cell_type": "code",
      "execution_count": 22,
      "metadata": {
        "id": "B6A99Y0nwRDM"
      },
      "outputs": [],
      "source": [
        "train_dataset = NewsDataset(train_encodings, train_labels)\n",
        "val_dataset = NewsDataset(val_encodings, val_labels)"
      ]
    },
    {
      "cell_type": "code",
      "execution_count": 23,
      "metadata": {
        "id": "azyhh98gwRDN"
      },
      "outputs": [],
      "source": [
        "training_args = TrainingArguments(\n",
        "    output_dir='./results',\n",
        "    num_train_epochs=3,\n",
        "    per_device_eval_batch_size=8,\n",
        "    per_device_train_batch_size=8,\n",
        "    warmup_steps=500,\n",
        "    weight_decay=0.01,\n",
        "    logging_dir='./logs'\n",
        ")"
      ]
    },
    {
      "cell_type": "code",
      "execution_count": 24,
      "metadata": {
        "id": "wmhmm3ibwRDN"
      },
      "outputs": [],
      "source": [
        "trainer = Trainer(\n",
        "    model=model,\n",
        "    args=training_args,\n",
        "    train_dataset=train_dataset,\n",
        "    eval_dataset=val_dataset\n",
        ")"
      ]
    },
    {
      "cell_type": "code",
      "execution_count": null,
      "metadata": {
        "collapsed": true,
        "id": "UMcaowNFwRDN"
      },
      "outputs": [],
      "source": [
        "trainer.train()"
      ]
    },
    {
      "cell_type": "code",
      "execution_count": 26,
      "metadata": {
        "colab": {
          "base_uri": "https://localhost:8080/",
          "height": 125
        },
        "id": "WSdJHHIPwRDN",
        "outputId": "3ee3ac96-c744-4da7-cc04-da74db578bb3"
      },
      "outputs": [
        {
          "output_type": "display_data",
          "data": {
            "text/plain": [
              "<IPython.core.display.HTML object>"
            ],
            "text/html": [
              "\n",
              "    <div>\n",
              "      \n",
              "      <progress value='501' max='1323' style='width:300px; height:20px; vertical-align: middle;'></progress>\n",
              "      [ 501/1323 06:39 < 10:57, 1.25 it/s, Epoch 1.13/3]\n",
              "    </div>\n",
              "    <table border=\"1\" class=\"dataframe\">\n",
              "  <thead>\n",
              " <tr style=\"text-align: left;\">\n",
              "      <th>Step</th>\n",
              "      <th>Training Loss</th>\n",
              "      <th>Validation Loss</th>\n",
              "    </tr>\n",
              "  </thead>\n",
              "  <tbody>\n",
              "    <tr>\n",
              "      <td>500</td>\n",
              "      <td>0.112600</td>\n",
              "      <td>0.027156</td>\n",
              "    </tr>\n",
              "  </tbody>\n",
              "</table><p>"
            ]
          },
          "metadata": {}
        },
        {
          "output_type": "execute_result",
          "data": {
            "text/plain": [
              "{'eval_loss': 0.027156051248311996}"
            ]
          },
          "metadata": {},
          "execution_count": 26
        }
      ],
      "source": [
        "trainer.evaluate()"
      ]
    },
    {
      "cell_type": "code",
      "execution_count": null,
      "metadata": {
        "id": "hnR1ovNvwRDN"
      },
      "outputs": [],
      "source": [
        "model.save_pretrained('./fine-tuned-rubert')\n",
        "tokenizer.save_pretrained('./fine-tuned-rubert')"
      ]
    },
    {
      "cell_type": "code",
      "source": [
        "import torch.nn.functional as F"
      ],
      "metadata": {
        "id": "wEc-wKrp4Egq"
      },
      "execution_count": 39,
      "outputs": []
    },
    {
      "cell_type": "code",
      "source": [
        "# Подготовка текста\n",
        "text = \"Разница между ожидаемыми по итогам марта нефтегазовыми доходами и фактически поступившими в российский бюджет составляет 302 миллиарда рублей, сообщает «Интерфакс» со ссылкой на Минфин РФ. Ранее планировалось, что в марте в федеральный бюджет поступят 790 миллиардов рублей.   «Корректировка обусловлена отклонением объемов экспорта газа от прогнозного уровня, а также более низкой динамикой поступлений в рамках режима НДД и ростом возмещения акциза на нефтяное сырье, в том числе в связи с изменением структуры отдельных элементов налогообложения», — говорится в сообщении. В апреле Минфин ожидает, что в федеральный бюджет поступят 798,4 миллиарда рублей дополнительных нефтегазовых доходов.\"\n",
        "inputs = tokenizer(text, return_tensors='pt', padding=True, truncation=True, max_length=512).to('cuda')\n",
        "\n",
        "# Предсказание\n",
        "with torch.no_grad():\n",
        "    outputs = model(**inputs)\n",
        "    logits = outputs.logits\n",
        "    predicted_class = torch.argmax(logits, dim=1).item()\n",
        "    probabilities = F.softmax(logits, dim=1)\n",
        "\n",
        "# Интерпретация результата\n",
        "class_names = {0: 'Правдивая', 1: 'Фейковая'}\n",
        "print(f'Предсказанный класс: {class_names[predicted_class]}')\n",
        "# print(F.softmax(logits, dim=1))\n",
        "print(probabilities)\n",
        "print(f'Вероятности: Правдивая - {probabilities[0][0].item():.4f}, Фейковая - {probabilities[0][1].item():.4f}')"
      ],
      "metadata": {
        "colab": {
          "base_uri": "https://localhost:8080/"
        },
        "id": "qtJK7IZS15Qt",
        "outputId": "f1b2acea-8b0d-43a3-cde0-71c0c8a70fe4"
      },
      "execution_count": 57,
      "outputs": [
        {
          "output_type": "stream",
          "name": "stdout",
          "text": [
            "Предсказанный класс: Правдивая\n",
            "tensor([[9.9982e-01, 1.7735e-04]], device='cuda:0')\n",
            "Вероятности: Правдивая - 0.9998, Фейковая - 0.0002\n"
          ]
        }
      ]
    },
    {
      "cell_type": "code",
      "source": [
        "!pip freeze > requirements.txt"
      ],
      "metadata": {
        "id": "WH7lnaej4O4o"
      },
      "execution_count": 56,
      "outputs": []
    }
  ],
  "metadata": {
    "kernelspec": {
      "display_name": "Python 3",
      "name": "python3"
    },
    "language_info": {
      "codemirror_mode": {
        "name": "ipython",
        "version": 3
      },
      "file_extension": ".py",
      "mimetype": "text/x-python",
      "name": "python",
      "nbconvert_exporter": "python",
      "pygments_lexer": "ipython3",
      "version": "3.12.5"
    },
    "colab": {
      "provenance": [],
      "gpuType": "T4"
    },
    "accelerator": "GPU"
  },
  "nbformat": 4,
  "nbformat_minor": 0
}